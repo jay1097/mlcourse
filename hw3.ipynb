{
  "nbformat": 4,
  "nbformat_minor": 0,
  "metadata": {
    "colab": {
      "provenance": []
    },
    "kernelspec": {
      "name": "python3",
      "display_name": "Python 3"
    },
    "language_info": {
      "name": "python"
    }
  },
  "cells": [
    {
      "cell_type": "code",
      "execution_count": 1,
      "metadata": {
        "colab": {
          "base_uri": "https://localhost:8080/"
        },
        "id": "g894RR3uWuSx",
        "outputId": "2cd36c6f-e7cd-427a-b875-da5bc6642471"
      },
      "outputs": [
        {
          "output_type": "stream",
          "name": "stdout",
          "text": [
            "Mounted at /content/drive\n"
          ]
        }
      ],
      "source": [
        "from google.colab import drive\n",
        "drive.mount('/content/drive')"
      ]
    },
    {
      "cell_type": "code",
      "source": [
        "import numpy as np\n",
        "import pandas as pd\n",
        "df = pd.read_csv('/content/drive/MyDrive/760/hw3/emails.csv')\n"
      ],
      "metadata": {
        "id": "L-m19aD-XAwy"
      },
      "execution_count": 24,
      "outputs": []
    },
    {
      "cell_type": "code",
      "source": [
        "dn = df.iloc[:,1:].values"
      ],
      "metadata": {
        "id": "8g-d1pAMYBtU"
      },
      "execution_count": 25,
      "outputs": []
    },
    {
      "cell_type": "code",
      "source": [
        "x, y = dn[:,:3000],dn[:,3000:]\n",
        "x.shape,y.shape"
      ],
      "metadata": {
        "colab": {
          "base_uri": "https://localhost:8080/"
        },
        "id": "TH4paSLbYGRh",
        "outputId": "b3cf028c-8457-4c76-a211-ab108ac31a1c"
      },
      "execution_count": 38,
      "outputs": [
        {
          "output_type": "execute_result",
          "data": {
            "text/plain": [
              "((5000, 3000), (5000, 1))"
            ]
          },
          "metadata": {},
          "execution_count": 38
        }
      ]
    },
    {
      "cell_type": "code",
      "source": [
        "###### question 2 #####\n",
        "from sklearn.neighbors import KNeighborsClassifier\n",
        "from sklearn.model_selection import cross_val_score,cross_validate\n",
        "y = y.ravel()\n",
        "clf = KNeighborsClassifier(n_neighbors=1)\n",
        "scores = cross_validate(clf,x,y,cv=5,scoring=('accuracy','precision','recall'))\n",
        "scores"
      ],
      "metadata": {
        "colab": {
          "base_uri": "https://localhost:8080/"
        },
        "id": "Wp0JSBRyY03B",
        "outputId": "b71b25e3-b42a-41be-dadf-00dda30edcc1"
      },
      "execution_count": null,
      "outputs": [
        {
          "output_type": "execute_result",
          "data": {
            "text/plain": [
              "{'fit_time': array([0.14460993, 0.04058051, 0.04481959, 0.04245281, 0.04164934]),\n",
              " 'score_time': array([1.18499589, 0.67699218, 0.68356371, 0.66126609, 0.68775964]),\n",
              " 'test_accuracy': array([0.826, 0.851, 0.866, 0.859, 0.777]),\n",
              " 'test_precision': array([0.66016713, 0.69337017, 0.73700306, 0.72560976, 0.58885942]),\n",
              " 'test_recall': array([0.8200692 , 0.86851211, 0.83391003, 0.82352941, 0.76551724])}"
            ]
          },
          "metadata": {},
          "execution_count": 24
        }
      ]
    },
    {
      "cell_type": "code",
      "source": [
        "####### question 4 #######\n",
        "kval = [1,3,5,7,10]\n",
        "avg_ac = []\n",
        "for i in kval:\n",
        "  clf = KNeighborsClassifier(n_neighbors=i)\n",
        "  scores = cross_validate(clf,x,y,cv=5,scoring=('accuracy','precision','recall'))\n",
        "  avg_ac.append(scores['test_accuracy'].mean())"
      ],
      "metadata": {
        "id": "qJJdTfXMZGnz"
      },
      "execution_count": null,
      "outputs": []
    },
    {
      "cell_type": "code",
      "source": [
        "import matplotlib.pyplot as plt\n",
        "plt.plot(kval,avg_ac)\n",
        "plt.xlabel('k')\n",
        "plt.ylabel('average accuracy')\n",
        "print('k :', kval,'\\n avg accuracy : ',avg_ac)\n",
        "\n",
        "plt.show()"
      ],
      "metadata": {
        "colab": {
          "base_uri": "https://localhost:8080/",
          "height": 314
        },
        "id": "hsxefKgdbFqK",
        "outputId": "d1e3f267-05b8-4fad-e6c1-862128bd2428"
      },
      "execution_count": null,
      "outputs": [
        {
          "output_type": "stream",
          "name": "stdout",
          "text": [
            "k : [1, 3, 5, 7, 10] \n",
            " avg accuracy :  [0.8358000000000001, 0.8442000000000001, 0.8446, 0.8464, 0.8559999999999999]\n"
          ]
        },
        {
          "output_type": "display_data",
          "data": {
            "text/plain": [
              "<Figure size 432x288 with 1 Axes>"
            ],
            "image/png": "[encoded data removed]"
          },
          "metadata": {
            "needs_background": "light"
          }
        }
      ]
    },
    {
      "cell_type": "code",
      "source": [
        "from sklearn.metrics import roc_curve,plot_roc_curve\n",
        "from sklearn.model_selection import train_test_split\n",
        "y=y.ravel()\n",
        "x_train,x_test,y_train,y_test = x[0:4000,:],x[4000:,:],y[:4000],y[4000:]#train_test_split(x,y,test_size=0.2,shuffle=True)\n",
        "\n",
        "clf = KNeighborsClassifier(n_neighbors=5).fit(x_train,y_train)\n",
        "y_pred = clf.predict(x_test)\n",
        "plot_roc_curve(clf,x_test,y_test)\n",
        "# fpr,tpr,thr = plot_roc_curve(y_test,y_pred)\n",
        "# plt.plot(fpr,tpr)\n",
        "# plt.show()\n",
        "# x_train.shape,y_train.shape\n",
        "# print(fpr)\n"
      ],
      "metadata": {
        "colab": {
          "base_uri": "https://localhost:8080/",
          "height": 351
        },
        "id": "ucDGp8QxuEP9",
        "outputId": "84726005-315d-47bc-c017-6d1ac323415d"
      },
      "execution_count": 51,
      "outputs": [
        {
          "output_type": "stream",
          "name": "stderr",
          "text": [
            "/usr/local/lib/python3.8/dist-packages/sklearn/utils/deprecation.py:87: FutureWarning: Function plot_roc_curve is deprecated; Function :func:`plot_roc_curve` is deprecated in 1.0 and will be removed in 1.2. Use one of the class methods: :meth:`sklearn.metric.RocCurveDisplay.from_predictions` or :meth:`sklearn.metric.RocCurveDisplay.from_estimator`.\n",
            "  warnings.warn(msg, category=FutureWarning)\n"
          ]
        },
        {
          "output_type": "execute_result",
          "data": {
            "text/plain": [
              "<sklearn.metrics._plot.roc_curve.RocCurveDisplay at 0x7f2e90303520>"
            ]
          },
          "metadata": {},
          "execution_count": 51
        },
        {
          "output_type": "display_data",
          "data": {
            "text/plain": [
              "<Figure size 432x288 with 1 Axes>"
            ],
            "image/png": "[encoded data removed]"
          },
          "metadata": {
            "needs_background": "light"
          }
        }
      ]
    },
    {
      "cell_type": "code",
      "source": [
        "### question 3 #####\n",
        "\n",
        "# x is a vector (theta^T * x)\n",
        "def sigmoid(x,o):\n",
        "  return 1.0/(1.0 + np.exp(-np.dot(x,o)))\n",
        "\n",
        "#cross entropy loss\n",
        "def ce_loss(o,x,y):\n",
        "  y_hat = net_sigmoid(x,o)\n",
        "  gradient = np.dot(x.T,(y_hat-y))\n",
        "\n",
        "for i\n",
        "o = np.zeros(x.shape[1]).reshape(x.shape[1],1)\n",
        "o.shape"
      ],
      "metadata": {
        "id": "5TzcMIKWi1EJ",
        "colab": {
          "base_uri": "https://localhost:8080/"
        },
        "outputId": "700c3b49-c4b8-4014-ae96-a53b5e617ca0"
      },
      "execution_count": 52,
      "outputs": [
        {
          "output_type": "execute_result",
          "data": {
            "text/plain": [
              "(3000, 1)"
            ]
          },
          "metadata": {},
          "execution_count": 52
        }
      ]
    },
    {
      "cell_type": "code",
      "source": [],
      "metadata": {
        "id": "81EjW-_KfWis"
      },
      "execution_count": null,
      "outputs": []
    },
    {
      "cell_type": "code",
      "source": [
        "####question 1\n",
        "import numpy as np\n",
        "temp = np.loadtxt('/content/drive/MyDrive/760/hw3/D2z.txt', delimiter=' ')\n"
      ],
      "metadata": {
        "id": "n8TnO1Efw44Q"
      },
      "execution_count": 16,
      "outputs": []
    },
    {
      "cell_type": "code",
      "source": [
        "x = temp[:,:2]\n",
        "y = temp[:,2]"
      ],
      "metadata": {
        "id": "6lK1SQFJyTCb"
      },
      "execution_count": 17,
      "outputs": []
    },
    {
      "cell_type": "code",
      "source": [
        "from sklearn.neighbors import KNeighborsClassifier\n",
        "clf = KNeighborsClassifier(n_neighbors=1)\n"
      ],
      "metadata": {
        "id": "uWBEOA8PyXQa"
      },
      "execution_count": 18,
      "outputs": []
    },
    {
      "cell_type": "code",
      "source": [
        "temp = np.arange(-2,2.1,0.1)\n",
        "temp.shape"
      ],
      "metadata": {
        "colab": {
          "base_uri": "https://localhost:8080/"
        },
        "id": "kDnShI3pyhRK",
        "outputId": "47b3acc4-d156-425d-f16e-1be613df20bd"
      },
      "execution_count": 19,
      "outputs": [
        {
          "output_type": "execute_result",
          "data": {
            "text/plain": [
              "(41,)"
            ]
          },
          "metadata": {},
          "execution_count": 19
        }
      ]
    },
    {
      "cell_type": "code",
      "source": [
        "temp2 = np.copy(temp)\n",
        "np.random.shuffle(temp2)\n",
        "\n",
        "t1 = np.vstack((temp,temp2)).T\n",
        "t1"
      ],
      "metadata": {
        "colab": {
          "base_uri": "https://localhost:8080/"
        },
        "id": "eHRgKrO8zI2D",
        "outputId": "c8faf11a-9dd0-4003-9bef-359c707b4740"
      },
      "execution_count": 20,
      "outputs": [
        {
          "output_type": "execute_result",
          "data": {
            "text/plain": [
              "array([[-2.00000000e+00,  1.77635684e-15],\n",
              "       [-1.90000000e+00, -1.70000000e+00],\n",
              "       [-1.80000000e+00, -1.00000000e-01],\n",
              "       [-1.70000000e+00,  1.80000000e+00],\n",
              "       [-1.60000000e+00,  1.90000000e+00],\n",
              "       [-1.50000000e+00, -1.60000000e+00],\n",
              "       [-1.40000000e+00,  1.10000000e+00],\n",
              "       [-1.30000000e+00,  1.60000000e+00],\n",
              "       [-1.20000000e+00,  1.20000000e+00],\n",
              "       [-1.10000000e+00,  6.00000000e-01],\n",
              "       [-1.00000000e+00, -4.00000000e-01],\n",
              "       [-9.00000000e-01, -1.50000000e+00],\n",
              "       [-8.00000000e-01, -2.00000000e-01],\n",
              "       [-7.00000000e-01,  2.00000000e-01],\n",
              "       [-6.00000000e-01,  1.00000000e-01],\n",
              "       [-5.00000000e-01,  1.40000000e+00],\n",
              "       [-4.00000000e-01,  1.70000000e+00],\n",
              "       [-3.00000000e-01, -1.10000000e+00],\n",
              "       [-2.00000000e-01,  1.50000000e+00],\n",
              "       [-1.00000000e-01, -1.90000000e+00],\n",
              "       [ 1.77635684e-15, -1.00000000e+00],\n",
              "       [ 1.00000000e-01, -9.00000000e-01],\n",
              "       [ 2.00000000e-01, -2.00000000e+00],\n",
              "       [ 3.00000000e-01,  5.00000000e-01],\n",
              "       [ 4.00000000e-01,  2.00000000e+00],\n",
              "       [ 5.00000000e-01,  9.00000000e-01],\n",
              "       [ 6.00000000e-01,  7.00000000e-01],\n",
              "       [ 7.00000000e-01, -1.80000000e+00],\n",
              "       [ 8.00000000e-01,  3.00000000e-01],\n",
              "       [ 9.00000000e-01, -6.00000000e-01],\n",
              "       [ 1.00000000e+00,  1.00000000e+00],\n",
              "       [ 1.10000000e+00,  4.00000000e-01],\n",
              "       [ 1.20000000e+00, -8.00000000e-01],\n",
              "       [ 1.30000000e+00, -1.20000000e+00],\n",
              "       [ 1.40000000e+00, -1.30000000e+00],\n",
              "       [ 1.50000000e+00,  1.30000000e+00],\n",
              "       [ 1.60000000e+00,  8.00000000e-01],\n",
              "       [ 1.70000000e+00, -1.40000000e+00],\n",
              "       [ 1.80000000e+00, -3.00000000e-01],\n",
              "       [ 1.90000000e+00, -5.00000000e-01],\n",
              "       [ 2.00000000e+00, -7.00000000e-01]])"
            ]
          },
          "metadata": {},
          "execution_count": 20
        }
      ]
    },
    {
      "cell_type": "code",
      "source": [
        "clf = clf.fit(x,y)"
      ],
      "metadata": {
        "id": "clu1YowX1SE6"
      },
      "execution_count": 21,
      "outputs": []
    },
    {
      "cell_type": "code",
      "source": [
        "import matplotlib.pyplot as plt\n",
        "from matplotlib.colors import ListedColormap"
      ],
      "metadata": {
        "id": "3JDeQiPJ3PqC"
      },
      "execution_count": 22,
      "outputs": []
    },
    {
      "cell_type": "code",
      "source": [
        "h = 0.1\n",
        "X = x\n",
        "cmap_light = ListedColormap(['#FFAAAA', '#AAFFAA', '#AAAAFF'])\n",
        "cmap_bold = ListedColormap(['#FF0000', '#00FF00', '#0000FF'])\n",
        "x_min, x_max = X[:, 0].min() - 1, X[:, 0].max() + 1\n",
        "y_min, y_max = X[:, 1].min() - 1, X[:, 1].max() + 1\n",
        "xx, yy = np.meshgrid(np.arange(x_min, x_max, h),\n",
        "                      np.arange(y_min, y_max, h))\n",
        "Z = clf.predict(np.c_[xx.ravel(), yy.ravel()])\n",
        "\n",
        "# Put the result into a color plot\n",
        "Z = Z.reshape(xx.shape)\n",
        "plt.figure()\n",
        "plt.pcolormesh(xx, yy, Z, cmap=cmap_light)\n",
        "y_test = clf.predict(t1)\n",
        "# Plot also the training points\n",
        "plt.scatter(X[:, 0], X[:, 1], c=y, cmap=cmap_bold)\n",
        "plt.scatter(t1[:,0],t1[:,1], c = y_test, marker='x')\n",
        "plt.xlim(xx.min(), xx.max())\n",
        "plt.ylim(yy.min(), yy.max())\n",
        "print(\"x - test data, o - train data\")"
      ],
      "metadata": {
        "colab": {
          "base_uri": "https://localhost:8080/",
          "height": 283
        },
        "id": "04mGwJYI3mbU",
        "outputId": "e80ac814-a962-4c50-ce16-306188ba05a9"
      },
      "execution_count": 23,
      "outputs": [
        {
          "output_type": "stream",
          "name": "stdout",
          "text": [
            "x - test data, o - train data\n"
          ]
        },
        {
          "output_type": "display_data",
          "data": {
            "text/plain": [
              "<Figure size 432x288 with 1 Axes>"
            ],
            "image/png": "[encoded data removed]"
          },
          "metadata": {
            "needs_background": "light"
          }
        }
      ]
    },
    {
      "cell_type": "code",
      "source": [],
      "metadata": {
        "id": "1tUlniSEq0w1"
      },
      "execution_count": null,
      "outputs": []
    }
  ]
}